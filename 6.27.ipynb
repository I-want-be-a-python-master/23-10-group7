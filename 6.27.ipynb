{
 "cells": [
  {
   "cell_type": "markdown",
   "metadata": {},
   "source": [
    "读取数据集并检查价格列的格式不一致问题。\n",
    "\n",
    "将Price列的所有价格统一为数值格式（去掉货币符号）。\n",
    "\n",
    "计算每个产品的总价值（Price * Quantity），并创建一个新列Total_Value。\n",
    "\n",
    "对Category列进行分组，计算每个类别的平均价格和总价值。\n",
    "\n"
   ]
  },
  {
   "cell_type": "code",
   "execution_count": null,
   "metadata": {},
   "outputs": [],
   "source": [
    "import pandas as pd\n",
    "\n",
    "# 读取数据集\n",
    "df = pd.read_csv('data_standardization.csv')\n",
    "print(df)\n",
    "# 检查价格列的格式不一致问题\n",
    "# print(df['Price'].unique())\n",
    "# 去除货币符号，并转换为float类型\n",
    "df['Price'] = df['Price'].str.replace('[\\$,a-zA-Z]', '', regex=True).astype(float)\n",
    "print(df)\n",
    "# 计算每个产品的总价值\n",
    "df['Total_Value'] = df['Price'] * df['Quantity']\n",
    "print(df)\n",
    "# 对Category列进行分组，计算每个类别的平均价格和总价值\n",
    "grouped = df.groupby('Category')['Price'].agg(['mean', 'sum'])\n",
    "print(grouped)"
   ]
  },
  {
   "cell_type": "markdown",
   "metadata": {},
   "source": [
    "读取数据集并将Full_Name列拆分为First_Name和Last_Name列。\n",
    "\n",
    "将Join_Date列转换为日期格式，并计算每个员工的入职年限（从入职日期到当前日期）。\n",
    "\n",
    "标准化Performance_Score列，将其转换为百分制（例如，80-100）。\n",
    "\n",
    "计算每个经理的平均绩效评分"
   ]
  },
  {
   "cell_type": "code",
   "execution_count": null,
   "metadata": {},
   "outputs": [],
   "source": [
    "import pandas as pd\n",
    "from datetime import datetime\n",
    "\n",
    "# 读取数据集\n",
    "df = pd.read_csv('data_transformation.csv')\n",
    "\n",
    "# 将Full_Name列拆分为First_Name和Last_Name列。\n",
    "df[['First_Name', 'Last_Name']] = df['Full_Name'].str.split(expand=True)\n",
    "print(df)\n",
    "\n",
    "# 将Join_Date列转换为日期格式，并计算每个员工的入职年限（从入职日期到当前日期）。\n",
    "df['Join_Date'] = pd.to_datetime(df['Join_Date'])\n",
    "# 计算入职天数\n",
    "df['Days_Since_Join'] = (datetime.now() - df['Join_Date']).dt.days\n",
    "# 计算入职年数，将天数除以365.25来考虑闰年\n",
    "df['Years_Since_Join'] = df['Days_Since_Join'] / 365.25\n",
    "print(df)\n",
    "\n",
    "# 标准化Performance_Score列，将其转换为百分制（例如，80-100）。\n",
    "df['Normalized_Performance'] = (df['Performance_Score'] - df['Performance_Score'].min())\\\n",
    "                              / (df['Performance_Score'].max() - df['Performance_Score']) * 100\n",
    "print(df)\n",
    "\n",
    "# 计算每个经理的平均绩效评分\n",
    "manager_performance = df.groupby('Manager')['Normalized_Performance'].mean().reset_index()\n",
    "print(manager_performance)"
   ]
  },
  {
   "cell_type": "markdown",
   "metadata": {},
   "source": [
    "读取数据集并计算每个部门的总工资和平均奖金。\n",
    "\n",
    "按照Salary列对数据进行排序，并找出薪资最高和最低的员工。\n",
    "\n",
    "计算每个部门的薪资范围（最大值和最小值之间的差距）。\n",
    "\n",
    "找出每个部门薪资最高的员工，并将结果保存为一个新的DataFrame。"
   ]
  },
  {
   "cell_type": "code",
   "execution_count": 3,
   "metadata": {},
   "outputs": [
    {
     "name": "stdout",
     "output_type": "stream",
     "text": [
      "            Salary                Bonus             \n",
      "               sum          mean    sum         mean\n",
      "Department                                          \n",
      "Finance     203000  67666.666667  18300  6100.000000\n",
      "HR          121000  60500.000000  10100  5050.000000\n",
      "IT          233000  58250.000000  23300  5825.000000\n",
      "Marketing   226000  75333.333333  22600  7533.333333\n",
      "Sales       218000  72666.666667  21800  7266.666667\n",
      "薪资最高的员工: David\n",
      "薪资最低的员工: Alice\n",
      "              min    max  Range\n",
      "Department                     \n",
      "Finance     60000  72000  12000\n",
      "HR          55000  66000  11000\n",
      "IT          50000  72000  22000\n",
      "Marketing   68000  80000  12000\n",
      "Sales       70000  75000   5000\n",
      "  Department  Max_Salary\n",
      "0    Finance       72000\n",
      "1         HR       66000\n",
      "2         IT       72000\n",
      "3  Marketing       80000\n",
      "4      Sales       75000\n"
     ]
    },
    {
     "name": "stderr",
     "output_type": "stream",
     "text": [
      "C:\\Users\\zhangshugang\\AppData\\Local\\Temp\\ipykernel_25024\\3975228069.py:22: FutureWarning: The provided callable <built-in function max> is currently using SeriesGroupBy.max. In a future version of pandas, the provided callable will be used directly. To keep current behavior pass the string \"max\" instead.\n",
      "  highest_salary_per_department = df.groupby('Department')['Salary'].\\\n"
     ]
    }
   ],
   "source": [
    "import pandas as pd\n",
    "\n",
    "# 读取数据集\n",
    "df = pd.read_csv('employee_salaries.csv')\n",
    "\n",
    "# 计算每个部门的总工资和平均奖金。\n",
    "department_summary = df.groupby('Department')[['Salary', 'Bonus']].agg(['sum', 'mean'])\n",
    "print(department_summary)\n",
    "\n",
    "# 按照Salary列对数据进行排序，并找出薪资最高和最低的员工。\n",
    "sorted_df = df.sort_values('Salary', ascending=False)\n",
    "highest_salary = sorted_df.iloc[0]['Name']\n",
    "lowest_salary = sorted_df.iloc[-1]['Name']\n",
    "print(f\"薪资最高的员工: {highest_salary}\")\n",
    "print(f\"薪资最低的员工: {lowest_salary}\")\n",
    "\n",
    "# 计算每个部门的薪资范围（最大值和最小值之间的差距）。\n",
    "department_range = df.groupby('Department')['Salary'].agg(['min', 'max']).assign(Range=lambda x: x['max'] - x['min'])\n",
    "print(department_range)\n",
    "\n",
    "# 找出每个部门薪资最高的员工，并将结果保存为一个新的DataFrame。\n",
    "highest_salary_per_department = df.groupby('Department')['Salary'].\\\n",
    "    agg(max).reset_index().rename(columns={'Salary': 'Max_Salary'})\n",
    "\n",
    "print(highest_salary_per_department)"
   ]
  }
 ],
 "metadata": {
  "kernelspec": {
   "display_name": "min",
   "language": "python",
   "name": "python3"
  },
  "language_info": {
   "codemirror_mode": {
    "name": "ipython",
    "version": 3
   },
   "file_extension": ".py",
   "mimetype": "text/x-python",
   "name": "python",
   "nbconvert_exporter": "python",
   "pygments_lexer": "ipython3",
   "version": "3.9.19"
  }
 },
 "nbformat": 4,
 "nbformat_minor": 2
}
